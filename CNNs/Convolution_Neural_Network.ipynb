{
  "cells": [
    {
      "cell_type": "markdown",
      "metadata": {
        "id": "shbM3zJAuPI9"
      },
      "source": [
        "In this lab you will do the following steps in order:\n",
        "\n",
        "1. Load and normalizing the CIFAR10 training and test datasets using\n",
        "   ``torchvision``\n",
        "2. Define a Convolution Neural Network\n",
        "3. Define a loss function and optimizer\n",
        "4. Train the network on the training data\n",
        "5. Test the network on the test data\n",
        "\n",
        "Using ``torchvision``, it’s extremely easy to load CIFAR10.\n",
        "\n"
      ]
    },
    {
      "cell_type": "markdown",
      "metadata": {
        "id": "Qf9I_7NdzTf6"
      },
      "source": [
        "How to install a different version of a package"
      ]
    },
    {
      "cell_type": "code",
      "execution_count": null,
      "metadata": {
        "id": "S4ZhoQ3vuPI_"
      },
      "outputs": [],
      "source": [
        "import torch\n",
        "import torchvision\n",
        "import torchvision.transforms as transforms"
      ]
    },
    {
      "cell_type": "markdown",
      "metadata": {
        "id": "6F0vCe0kzcJ9"
      },
      "source": [
        "Use GPU if available"
      ]
    },
    {
      "cell_type": "code",
      "execution_count": null,
      "metadata": {
        "id": "5bun1lQdwoqy",
        "colab": {
          "base_uri": "https://localhost:8080/"
        },
        "outputId": "9460cc9c-3a34-4971-8aa6-9dc67014887f"
      },
      "outputs": [
        {
          "output_type": "stream",
          "name": "stdout",
          "text": [
            "CUDA is available!  Training on GPU ...\n",
            "cuda:0\n"
          ]
        }
      ],
      "source": [
        "train_on_gpu = torch.cuda.is_available()\n",
        "if not train_on_gpu:\n",
        "    print('CUDA is not available.  Training on CPU ...')\n",
        "else:\n",
        "    print('CUDA is available!  Training on GPU ...')\n",
        "device = torch.device(\"cuda:0\" if train_on_gpu else \"cpu\")\n",
        "print(device)"
      ]
    },
    {
      "cell_type": "markdown",
      "metadata": {
        "id": "dZyKEHctuPI_"
      },
      "source": [
        "1. Load and normalizing the CIFAR10 training and test datasets using\n",
        "   ``torchvision``\n",
        "   \n",
        "The output of [torchvision datasets](https://pytorch.org/vision/stable/datasets.html#datasets) are PILImage images of range [0, 1].\n",
        "We [transform](https://pytorch.org/vision/stable/transforms.html) them to normalized Tensors. Then we call the [dataloader](https://pytorch.org/docs/stable/data.html#torch.utils.data.DataLoader)\n",
        "\n"
      ]
    },
    {
      "cell_type": "code",
      "execution_count": null,
      "metadata": {
        "id": "nV92dK3ruPI_",
        "colab": {
          "base_uri": "https://localhost:8080/"
        },
        "outputId": "23d7aea6-e44b-4c99-e922-1bbc70e2058a"
      },
      "outputs": [
        {
          "output_type": "stream",
          "name": "stdout",
          "text": [
            "Files already downloaded and verified\n",
            "Files already downloaded and verified\n"
          ]
        }
      ],
      "source": [
        "# Define data transformation pipeline\n",
        "transform = transforms.Compose([\n",
        "    # Convert PIL images to PyTorch tensors\n",
        "    transforms.ToTensor(),\n",
        "    # Normalize pixel values\n",
        "    transforms.Normalize(mean=[0.485, 0.456, 0.406], std=[0.229, 0.224, 0.225])\n",
        "])\n",
        "\n",
        "# Load the CIFAR-10 training dataset\n",
        "trainset = torchvision.datasets.CIFAR10(root='./data', train=True,\n",
        "                                        download=True, transform=transform)\n",
        "\n",
        "# Create data loader for training data with batch size 4 and shuffling\n",
        "trainloader = torch.utils.data.DataLoader(trainset, batch_size=4,\n",
        "                                          shuffle=True, num_workers=2)\n",
        "\n",
        "# Load the CIFAR-10 testing dataset\n",
        "testset = torchvision.datasets.CIFAR10(root='./data', train=False,\n",
        "                                       download=True, transform=transform)\n",
        "\n",
        "# Create data loader for testing data with batch size 1 and shuffling\n",
        "testloader = torch.utils.data.DataLoader(testset, batch_size=1,\n",
        "                                         shuffle=True, num_workers=2)\n",
        "\n",
        "# Define class labels for CIFAR-10 dataset\n",
        "classes = ('plane', 'car', 'bird', 'cat',\n",
        "           'deer', 'dog', 'frog', 'horse', 'ship', 'truck')\n"
      ]
    },
    {
      "cell_type": "markdown",
      "metadata": {
        "id": "5nB4FDsouPJA"
      },
      "source": [
        "Let us [show](https://matplotlib.org/stable/api/_as_gen/matplotlib.pyplot.imshow.html#matplotlib-pyplot-imshow) some of the training images\n"
      ]
    },
    {
      "cell_type": "code",
      "execution_count": null,
      "metadata": {
        "id": "KVCb2s_QuPJA",
        "colab": {
          "base_uri": "https://localhost:8080/",
          "height": 349
        },
        "outputId": "d2c2824f-eea1-4913-a366-a8bb91485248"
      },
      "outputs": [
        {
          "output_type": "stream",
          "name": "stdout",
          "text": [
            "Train loader:\n",
            "12500\n",
            "{'frog': 5000, 'truck': 5000, 'deer': 5000, 'car': 5000, 'bird': 5000, 'horse': 5000, 'ship': 5000, 'cat': 5000, 'dog': 5000, 'plane': 5000}\n",
            "torch.Size([4, 3, 32, 32])\n",
            "cat ship car car\n",
            "\n",
            "Test loader:\n",
            "10000\n",
            "{'cat': 1000, 'ship': 1000, 'plane': 1000, 'frog': 1000, 'car': 1000, 'truck': 1000, 'dog': 1000, 'horse': 1000, 'deer': 1000, 'bird': 1000}\n"
          ]
        },
        {
          "output_type": "display_data",
          "data": {
            "text/plain": [
              "<Figure size 640x480 with 1 Axes>"
            ],
            "image/png": "[encoded data removed]"
          },
          "metadata": {}
        }
      ],
      "source": [
        "import matplotlib.pyplot as plt  # Import library for plotting\n",
        "import numpy as np  # Import library for numerical computations\n",
        "from collections import Counter  # Import Counter for counting elements\n",
        "\n",
        "# Function to display an image\n",
        "def imshow(image):\n",
        "    mean=torch.tensor([0.485, 0.456, 0.406])\n",
        "    std=torch.tensor([0.229, 0.224, 0.225])\n",
        "\n",
        "    # Unnormalize the image channels to [0, 1]\n",
        "    image = image.mul(std.unsqueeze(1).unsqueeze(2))  # More efficient element-wise multiplication\n",
        "    image = image.add(mean.unsqueeze(1).unsqueeze(2))  # Efficient element-wise addition\n",
        "\n",
        "    image= image.clamp(0, 1)\n",
        "\n",
        "    # Convert the tensor to a NumPy array\n",
        "    npimg = image.numpy()\n",
        "    # Plot the image using matplotlib\n",
        "    plt.imshow(np.transpose(npimg, (1, 2, 0)))  # Transpose for correct display\n",
        "\n",
        "# ------------------ Train Loader Section ------------------\n",
        "\n",
        "print(\"Train loader:\")\n",
        "\n",
        "# Count the frequency of each class in the training set\n",
        "stat = dict(Counter(trainset.targets))\n",
        "\n",
        "# Create a new dictionary with class names as keys\n",
        "new_stat = stat.copy()\n",
        "for k in stat.keys():\n",
        "    new_stat[classes[k]] = stat[k]\n",
        "    del new_stat[k]\n",
        "\n",
        "# Print the length of the train loader (number of batches)\n",
        "print(len(trainloader))\n",
        "\n",
        "# Print the class distribution in the training set\n",
        "print(new_stat)\n",
        "\n",
        "# Get a batch of random training images and their labels\n",
        "dataiter = iter(trainloader)\n",
        "images, labels = next(dataiter)\n",
        "\n",
        "# Print the shape of the image tensor (batch_size, channels, height, width)\n",
        "print(images.shape)\n",
        "\n",
        "# Display the images using the imshow function\n",
        "imshow(torchvision.utils.make_grid(images))\n",
        "\n",
        "# Print the labels of the images\n",
        "print(' '.join('%s' % classes[labels[j]] for j in range(4)))  # Print labels for 4 images\n",
        "\n",
        "# ------------------ Test Loader Section ------------------\n",
        "\n",
        "print(\"\\nTest loader:\")\n",
        "\n",
        "# Similar steps for the test loader\n",
        "stat = dict(Counter(testset.targets))\n",
        "new_stat = stat.copy()\n",
        "for k in stat.keys():\n",
        "    new_stat[classes[k]] = stat[k]\n",
        "    del new_stat[k]\n",
        "\n",
        "print(len(testloader))\n",
        "print(new_stat)\n"
      ]
    },
    {
      "cell_type": "markdown",
      "metadata": {
        "id": "FWjfTuThuPJA"
      },
      "source": [
        "2. Define a Convolution Neural Network.\n",
        "[network layers](https://pytorch.org/docs/stable/nn.html#convolution-layers)"
      ]
    },
    {
      "cell_type": "code",
      "execution_count": null,
      "metadata": {
        "id": "8HW6XRf7uPJB",
        "colab": {
          "base_uri": "https://localhost:8080/"
        },
        "outputId": "2f3758bb-81fd-46a3-a31c-bdb8d13128a6"
      },
      "outputs": [
        {
          "output_type": "execute_result",
          "data": {
            "text/plain": [
              "Net(\n",
              "  (pool): MaxPool2d(kernel_size=2, stride=2, padding=0, dilation=1, ceil_mode=False)\n",
              "  (lrn): LocalResponseNorm(5, alpha=0.0001, beta=0.75, k=2.0)\n",
              "  (conv1): Conv2d(3, 64, kernel_size=(5, 5), stride=(2, 2), padding=(2, 2))\n",
              "  (conv2): Conv2d(64, 192, kernel_size=(3, 3), stride=(1, 1), padding=(1, 1))\n",
              "  (conv3): Conv2d(192, 384, kernel_size=(3, 3), stride=(1, 1), padding=(1, 1))\n",
              "  (conv4): Conv2d(384, 256, kernel_size=(3, 3), stride=(1, 1), padding=(1, 1))\n",
              "  (conv5): Conv2d(256, 256, kernel_size=(3, 3), stride=(1, 1), padding=(1, 1))\n",
              "  (fc1): Linear(in_features=1024, out_features=4096, bias=True)\n",
              "  (fc2): Linear(in_features=4096, out_features=4096, bias=True)\n",
              "  (fc3): Linear(in_features=4096, out_features=10, bias=True)\n",
              "  (Drop): Dropout(p=0.5, inplace=False)\n",
              ")"
            ]
          },
          "metadata": {},
          "execution_count": 27
        }
      ],
      "source": [
        "import torch.nn as nn\n",
        "import torch.nn.functional as F\n",
        "\n",
        "class Net(nn.Module):\n",
        "    \"\"\"\n",
        "    This class defines a simple convolutional neural network (CNN) architecture\n",
        "    for image classification.\n",
        "\n",
        "    Attributes:\n",
        "        conv1 (nn.Conv2d): First convolutional layer with 3 input channels (RGB),\n",
        "                           6 output channels, and a kernel size of 5x5.\n",
        "        pool (nn.MaxPool2d): Max pooling layer with a kernel size of 2x2.\n",
        "        conv2 (nn.Conv2d): Second convolutional layer with 6 input channels\n",
        "                           (from the first conv layer), 16 output channels,\n",
        "                           and a kernel size of 5x5.\n",
        "        fc1 (nn.Linear): First fully-connected layer that flattens the input\n",
        "                         from the previous convolutional layers and has 120 neurons.\n",
        "        fc2 (nn.Linear): Second fully-connected layer with 84 neurons.\n",
        "        fc3 (nn.Linear): Output layer with 10 neurons, corresponding to the 10 classes\n",
        "                         in CIFAR-10.\n",
        "\n",
        "    Methods:\n",
        "        forward(self, x): Defines the forward pass of the network.\n",
        "    \"\"\"\n",
        "\n",
        "    def __init__(self):\n",
        "        super(Net, self).__init__()  # Call the superclass constructor\n",
        "\n",
        "        self.pool = nn.MaxPool2d(2, 2)  # Max pooling layer\n",
        "        self.lrn = nn.LocalResponseNorm(size=5, alpha=0.0001, beta=0.75, k=2.0)\n",
        "        self.conv1 = nn.Conv2d(3, 64,kernel_size=5,stride=2, padding=2)  # First convolutional layer\n",
        "        self.conv2 = nn.Conv2d(64, 192, kernel_size=3, padding=1)  # Second convolutional layer\n",
        "        self.conv3 = nn.Conv2d(192, 384, kernel_size=3, padding=1)  # Second convolutional layer\n",
        "        self.conv4 = nn.Conv2d(384, 256, kernel_size=3, padding=1)  # Second convolutional layer\n",
        "        self.conv5 = nn.Conv2d(256, 256, kernel_size=3, padding=1)  # Second convolutional layer\n",
        "        self.fc1 = nn.Linear(256 * 2 * 2, 4096)  # First fully-connected layer\n",
        "        self.fc2 = nn.Linear(4096, 4096) # Second fully-connected layer\n",
        "        self.fc3 = nn.Linear(4096, 10)  # Output layer\n",
        "        self.Drop = nn.Dropout(0.5)\n",
        "\n",
        "    def forward(self, x):\n",
        "        \"\"\"\n",
        "        Defines the forward pass of the neural network.\n",
        "\n",
        "        Args:\n",
        "            x (torch.Tensor): Input tensor representing the images.\n",
        "\n",
        "        Returns:\n",
        "            torch.Tensor: Output tensor representing the class probabilities.\n",
        "        \"\"\"\n",
        "\n",
        "        x = self.pool(self.lrn(F.leaky_relu(self.conv1(x))))  # First convolutional layer with ReLU activation and pooling\n",
        "        x = self.pool(self.lrn(F.leaky_relu(self.conv2(x))))  # Second convolutional layer with ReLU activation and pooling\n",
        "        #x = self.pool(F.relu(self.conv1(x)))  # First convolutional layer with ReLU activation and pooling\n",
        "        #x = self.pool(F.relu(self.conv2(x)))  # Second convolutional layer with ReLU activation and pooling\n",
        "\n",
        "        x = F.leaky_relu(self.conv3(x))\n",
        "        x = F.leaky_relu(self.conv4(x))\n",
        "        #x = F.relu(self.conv3(x))\n",
        "        #x = F.relu(self.conv4(x))\n",
        "\n",
        "        x = self.pool(F.leaky_relu(self.conv5(x)))\n",
        "        #x = self.pool(F.relu(self.conv5(x)))\n",
        "        x = x.view(x.shape[0],-1)  # Flatten the output from convolutional layers\n",
        "        # print(x.shape)\n",
        "        x = F.leaky_relu(self.fc1(self.Drop(x)))  # First fully-connected layer with ReLU activation\n",
        "        x = F.leaky_relu(self.fc2(self.Drop(x)))\n",
        "        #x = F.relu(self.fc1(x))  # First fully-connected layer with ReLU activation\n",
        "        #x = F.relu(self.fc2(x))\n",
        "        x = self.fc3(x)  # Output layer\n",
        "        return x\n",
        "\n",
        "net = Net()\n",
        "net.to(device)"
      ]
    },
    {
      "cell_type": "markdown",
      "source": [
        "Compute the receptive field of the network"
      ],
      "metadata": {
        "id": "O2P0Zlbl2Stb"
      }
    },
    {
      "cell_type": "code",
      "source": [
        "# This line attempts to clone a Git repository using a shell command.\n",
        "#!git clone https://github.com/Fangyh09/pytorch-receptive-field.git\n",
        "\n",
        "# This line would move the downloaded directory\n",
        "#!mv -v pytorch-receptive-field/torch_receptive_field ./\n",
        "\n",
        "# Import the 'receptive_field' function from the 'torch_receptive_field' library.\n",
        "#from torch_receptive_field import receptive_field\n",
        "\n",
        "# Calculate the receptive field of the network 'net' for an input image size of\n",
        "# 3 channels (RGB) and 32x32 pixels. The 'receptive_field' function would analyze the network architecture and input size to determine\n",
        "# the receptive field size for each layer and the overall network.\n",
        "#receptive_field(net, input_size=(3, 32, 32))\n"
      ],
      "metadata": {
        "id": "tsX3Q7q32SgF"
      },
      "execution_count": null,
      "outputs": []
    },
    {
      "cell_type": "markdown",
      "metadata": {
        "id": "hmA4DkACuPJB"
      },
      "source": [
        "3. Define a loss function and optimizer\n",
        "\n",
        "Let's use a Classification [Cross-Entropy](https://pytorch.org/docs/stable/nn.html#loss-functions) loss and [SGD](https://pytorch.org/docs/stable/generated/torch.optim.SGD.html#torch.optim.SGD) with momentum.\n",
        "\n"
      ]
    },
    {
      "cell_type": "code",
      "execution_count": null,
      "metadata": {
        "id": "yl7S3NpruPJB"
      },
      "outputs": [],
      "source": [
        "import torch.optim as optim  # Import the optim module from PyTorch for optimization algorithms\n",
        "\n",
        "# Define the loss function\n",
        "criterion = nn.CrossEntropyLoss()  # Use cross-entropy loss for multi-class classification\n",
        "\n",
        "# Define the optimizer\n",
        "optimizer = optim.SGD(net.parameters(), lr=0.001, momentum=0.9)\n",
        "#optimizer = optim.Adam(net.parameters(), lr=0.001)\n",
        "schedular = optim.lr_scheduler.StepLR(optimizer, step_size =2, gamma=0.8)\n",
        "# Explanation of the optimizer:\n",
        "#   - optim.SGD(net.parameters(), lr=0.001, momentum=0.9):\n",
        "#       - optim.SGD: This selects the Stochastic Gradient Descent (SGD) optimizer.\n",
        "#       - net.parameters(): This provides the parameters of the network (`net`) to be optimized.\n",
        "#       - lr=0.001: This sets the learning rate to 0.001 (controls how much the weights are updated).\n",
        "#       - momentum=0.9: This sets the momentum to 0.9 (a technique to improve convergence).\n"
      ]
    },
    {
      "cell_type": "markdown",
      "metadata": {
        "id": "bmu1-dvfuPJB"
      },
      "source": [
        "4. Train the network on the training data\n",
        "\n",
        "\n",
        "We simply have to loop over our data iterator, and feed the inputs to the\n",
        "network and optimize.\n",
        "\n"
      ]
    },
    {
      "cell_type": "code",
      "execution_count": null,
      "metadata": {
        "id": "928O4nWYuPJC",
        "colab": {
          "base_uri": "https://localhost:8080/"
        },
        "outputId": "ac8a757e-ea9e-4795-dea2-0dc117115318"
      },
      "outputs": [
        {
          "output_type": "stream",
          "name": "stdout",
          "text": [
            "[1,  2501] loss: 2.3028\n",
            "[1,  5001] loss: 2.2219\n",
            "[1,  7501] loss: 1.9852\n",
            "[1, 10001] loss: 1.8227\n",
            "[2,  2501] loss: 1.6172\n",
            "[2,  5001] loss: 1.5144\n",
            "[2,  7501] loss: 1.4482\n",
            "[2, 10001] loss: 1.3530\n",
            "[3,  2501] loss: 1.1693\n",
            "[3,  5001] loss: 1.1328\n",
            "[3,  7501] loss: 1.0951\n",
            "[3, 10001] loss: 1.0642\n",
            "[4,  2501] loss: 0.9406\n",
            "[4,  5001] loss: 0.9203\n",
            "[4,  7501] loss: 0.9070\n",
            "[4, 10001] loss: 0.9061\n",
            "[5,  2501] loss: 0.7322\n",
            "[5,  5001] loss: 0.7358\n",
            "[5,  7501] loss: 0.7337\n",
            "[5, 10001] loss: 0.7332\n",
            "[6,  2501] loss: 0.6143\n",
            "[6,  5001] loss: 0.6165\n",
            "[6,  7501] loss: 0.6279\n",
            "[6, 10001] loss: 0.6308\n",
            "[7,  2501] loss: 0.4681\n",
            "[7,  5001] loss: 0.4840\n",
            "[7,  7501] loss: 0.4838\n",
            "[7, 10001] loss: 0.5015\n",
            "[8,  2501] loss: 0.3798\n",
            "[8,  5001] loss: 0.3919\n",
            "[8,  7501] loss: 0.4083\n",
            "[8, 10001] loss: 0.4105\n",
            "[9,  2501] loss: 0.2557\n",
            "[9,  5001] loss: 0.2598\n",
            "[9,  7501] loss: 0.2884\n",
            "[9, 10001] loss: 0.3037\n",
            "[10,  2501] loss: 0.1965\n",
            "[10,  5001] loss: 0.2140\n",
            "[10,  7501] loss: 0.2307\n",
            "[10, 10001] loss: 0.2319\n",
            "[11,  2501] loss: 0.1296\n",
            "[11,  5001] loss: 0.1474\n",
            "[11,  7501] loss: 0.1457\n",
            "[11, 10001] loss: 0.1508\n",
            "[12,  2501] loss: 0.0839\n",
            "[12,  5001] loss: 0.0964\n",
            "[12,  7501] loss: 0.1089\n",
            "[12, 10001] loss: 0.1196\n",
            "[13,  2501] loss: 0.0565\n",
            "[13,  5001] loss: 0.0510\n",
            "[13,  7501] loss: 0.0546\n",
            "[13, 10001] loss: 0.0641\n",
            "[14,  2501] loss: 0.0308\n",
            "[14,  5001] loss: 0.0337\n",
            "[14,  7501] loss: 0.0376\n",
            "[14, 10001] loss: 0.0461\n",
            "[15,  2501] loss: 0.0265\n",
            "[15,  5001] loss: 0.0186\n",
            "[15,  7501] loss: 0.0185\n",
            "[15, 10001] loss: 0.0283\n",
            "[16,  2501] loss: 0.0169\n",
            "[16,  5001] loss: 0.0149\n",
            "[16,  7501] loss: 0.0103\n",
            "[16, 10001] loss: 0.0195\n",
            "[17,  2501] loss: 0.0071\n",
            "[17,  5001] loss: 0.0072\n",
            "[17,  7501] loss: 0.0068\n",
            "[17, 10001] loss: 0.0051\n",
            "[18,  2501] loss: 0.0058\n",
            "[18,  5001] loss: 0.0063\n",
            "[18,  7501] loss: 0.0044\n",
            "[18, 10001] loss: 0.0030\n",
            "[19,  2501] loss: 0.0021\n",
            "[19,  5001] loss: 0.0020\n",
            "[19,  7501] loss: 0.0016\n",
            "[19, 10001] loss: 0.0025\n",
            "[20,  2501] loss: 0.0018\n",
            "[20,  5001] loss: 0.0013\n",
            "[20,  7501] loss: 0.0010\n",
            "[20, 10001] loss: 0.0011\n",
            "Finished Training\n"
          ]
        }
      ],
      "source": [
        "num_print_intervals = 4 # Number of times to print statistics\n",
        "\n",
        "num_print_intervals+=1\n",
        "print_interval = int(len(trainloader) / num_print_intervals)\n",
        "\n",
        "n_epochs=20\n",
        "net.train()############################################################\n",
        "epoch_losses = []\n",
        "\n",
        "# Loop over the dataset multiple times (2 epochs in this case)\n",
        "for epoch in range(n_epochs):\n",
        "    running_loss=[]  # Initialize a variable to track the total loss for this epoch\n",
        "    batch_losses = []\n",
        "\n",
        "    # Iterate over the training data loader\n",
        "    for i, data in enumerate(trainloader, 0):\n",
        "        # Get the inputs (images) and labels from the current batch\n",
        "        inputs, labels = data\n",
        "\n",
        "        # Move the inputs and labels to the specified device (CPU or GPU)\n",
        "        inputs = inputs.to(device)\n",
        "        labels = labels.to(device)\n",
        "\n",
        "        # Clear the gradients accumulated in the previous iteration\n",
        "        optimizer.zero_grad()\n",
        "\n",
        "        # Training loop: forward pass, backward pass, and optimization\n",
        "        # 1. Forward pass:\n",
        "        outputs = net(inputs)  # Pass the input images through the network to get predictions (outputs)\n",
        "        # 2. Calculate loss:\n",
        "        loss = criterion(outputs, labels)  # Compute the loss based on the predictions (outputs) and ground truth labels\n",
        "        # 3. Backward pass:\n",
        "        loss.backward()  # Backpropagate the loss to calculate gradients for each parameter in the network\n",
        "        # 4. Optimization step:\n",
        "        optimizer.step()  # Update the weights and biases of the network based on the calculated gradients\n",
        "\n",
        "        running_loss.append(loss.item())  # Accumulate the loss for this mini-batch\n",
        "        batch_losses.append(loss.item())\n",
        "\n",
        "        if i>0 and i % print_interval == 0:  # Check batch interval\n",
        "            # Print the average loss for the mini-batches\n",
        "            print('[%d, %5d] loss: %.4f' %\n",
        "                  (epoch + 1, i + 1, np.mean(running_loss)))\n",
        "            # Reset the running loss for the next interval\n",
        "            running_loss=[]\n",
        "    schedular.step()\n",
        "    epoch_losses.append(np.mean(running_loss))\n",
        "\n",
        "# Training complete\n",
        "print('Finished Training')\n"
      ]
    },
    {
      "cell_type": "code",
      "source": [
        "# Plotting delle loss dopo l'addestramento\n",
        "plt.figure(figsize=(10, 5))\n",
        "plt.plot(range(1, n_epochs + 1), epoch_losses, marker='o')\n",
        "plt.title('Loss per Epoca')\n",
        "plt.xlabel('Epoca')\n",
        "plt.ylabel('Loss')\n",
        "plt.grid(True)\n",
        "plt.show()"
      ],
      "metadata": {
        "colab": {
          "base_uri": "https://localhost:8080/",
          "height": 487
        },
        "id": "1CatETzdzvEI",
        "outputId": "6a7082fe-c090-42d4-b613-3804547da1e7"
      },
      "execution_count": null,
      "outputs": [
        {
          "output_type": "display_data",
          "data": {
            "text/plain": [
              "<Figure size 1000x500 with 1 Axes>"
            ],
            "image/png": "[encoded data removed]"
          },
          "metadata": {}
        }
      ]
    },
    {
      "cell_type": "markdown",
      "metadata": {
        "id": "bzpMI9aUuPJC"
      },
      "source": [
        "5. Test the network on the test data\n",
        "\n",
        "\n",
        "We have trained the network for 2 passes over the training dataset.\n",
        "But we need to check if the network has learnt anything at all.\n",
        "\n",
        "We will check this by predicting the class label that the neural network\n",
        "outputs, and checking it against the ground-truth. If the prediction is\n",
        "correct, we add the sample to the list of correct predictions."
      ]
    },
    {
      "cell_type": "code",
      "execution_count": null,
      "metadata": {
        "id": "e_JnNda2uPJD",
        "colab": {
          "base_uri": "https://localhost:8080/"
        },
        "outputId": "70e740ca-37c5-4b12-9409-3fa0bd5a00f5"
      },
      "outputs": [
        {
          "output_type": "stream",
          "name": "stdout",
          "text": [
            "Accuracy of the network on the 10000 test images: 78 %\n"
          ]
        }
      ],
      "source": [
        "# Initialize variables to track accuracy\n",
        "import matplotlib.pyplot as plt\n",
        "import seaborn as sns\n",
        "from sklearn.metrics import confusion_matrix\n",
        "correct = 0\n",
        "total = 0\n",
        "all_preds = []\n",
        "all_labels = []\n",
        "net.eval()#####################################################################\n",
        "# Disable gradient calculation for better performance during evaluation\n",
        "with torch.no_grad():\n",
        "    # Loop over the test loader\n",
        "    for data in testloader:\n",
        "        # Get the image and label from the current batch\n",
        "        image, label = data\n",
        "\n",
        "        # Move the image data to the specified device (CPU or GPU)\n",
        "        image = image.to(device)\n",
        "\n",
        "        # Get the network's prediction for the image\n",
        "        output = net(image)\n",
        "        # smax = torch.nn.Softmax(dim=1)(output.cpu())\n",
        "\n",
        "        # Find the class with the highest probability\n",
        "        _, predicted = torch.max(output.cpu(), 1)  # Equivalent to pred = torch.argmax(output.cpu(), dim=1)\n",
        "        all_preds.extend(predicted.cpu().numpy())\n",
        "        all_labels.extend(label.cpu().numpy())\n",
        "        # Update total number of test images\n",
        "        total += label.size(0)  # label.size(0) gives the batch size\n",
        "\n",
        "        # Count correct predictions\n",
        "        correct += (predicted == label).sum().item()  # Count true positives\n",
        "# Calculate and print accuracy\n",
        "print('Accuracy of the network on the 10000 test images: %d %%' % (\n",
        "    100 * correct / total))\n",
        "\n",
        "\n",
        "#cm = confusion_matrix(all_labels, all_preds)\n",
        "#plt.figure(figsize=(10, 10))\n",
        "#sns.heatmap(cm, annot=True, fmt='d', cmap='Blues', xticklabels=classes, yticklabels=classes)\n",
        "#plt.xlabel('Predicted')\n",
        "#plt.ylabel('True')\n",
        "#plt.title('Confusion Matrix')\n",
        "#plt.show()\n"
      ]
    },
    {
      "cell_type": "markdown",
      "metadata": {
        "id": "O1Y4HMBOxCE6"
      },
      "source": [
        "**!HOMEWORK!**"
      ]
    },
    {
      "cell_type": "markdown",
      "metadata": {
        "id": "mZW_s0fsB1Xi"
      },
      "source": [
        "This homework assignment asks you to performs 2 tasks:\n",
        "\n",
        "1. Analyze Results with Different Network Parameters:\n",
        "\n",
        "This involves training the network with various configurations of network parameters and analyzing the impact on performance. Here's a step-by-step approach:\n",
        "\n",
        "**Choose Network Parameters:**\n",
        "\n",
        "Select the network parameters you want to experiment with. Common choices include:\n",
        "\n",
        "Number of layers: You can try increasing or decreasing the number of layers in your chosen network architecture (e.g., convolutional layers in a CNN).\n",
        "Learning rate: Experiment with different learning rates (e.g., 0.01, 0.001, 0.0001) to find a balance between fast learning and stability.\n",
        "Other parameters: Depending on your network architecture, there might be additional options like:\n",
        "Number of filters in convolutional layers: This affects the complexity of features extracted from the data.\n",
        "Activation functions: Experiment with different activation functions (e.g., ReLU, Leaky ReLU) to introduce non-linearity.\n",
        "Optimizer parameters: Some optimizers (e.g., Adam) have hyperparameters you can adjust.\n",
        "Train the network for a different number of epochs.\n",
        "\n",
        "**Analyze Results:**\n",
        "\n",
        "Compare the performance of the network across different parameter configurations:\n",
        "\n",
        "How accuracy/loss changes with different parameter values.\n",
        "2. Show and Explain Errors of the Best Network:\n",
        "\n",
        "Once you identify the **best performing network configuration** (based on metrics like accuracy or loss), analyze its errors.\n",
        "For example you can generate a confusion matrix. This matrix visualizes how often the network predicted each class correctly or incorrectly.\n",
        "\n",
        "Useful resources:\n",
        "*   [network layers](https://pytorch.org/docs/stable/nn.html#convolution-layers)\n",
        "*   [activation function](https://pytorch.org/docs/stable/nn.html#convolution-layers)\n",
        "*   [loss functions](https://pytorch.org/docs/stable/nn.html#convolution-layers)\n",
        "\n",
        "\n",
        "\n"
      ]
    }
  ],
  "metadata": {
    "colab": {
      "provenance": [],
      "gpuType": "V100",
      "machine_shape": "hm"
    },
    "kernelspec": {
      "display_name": "Python 3",
      "name": "python3"
    },
    "language_info": {
      "codemirror_mode": {
        "name": "ipython",
        "version": 3
      },
      "file_extension": ".py",
      "mimetype": "text/x-python",
      "name": "python",
      "nbconvert_exporter": "python",
      "pygments_lexer": "ipython3",
      "version": "3.6.6"
    },
    "accelerator": "GPU"
  },
  "nbformat": 4,
  "nbformat_minor": 0
}